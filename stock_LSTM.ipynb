{
 "cells": [
  {
   "cell_type": "markdown",
   "metadata": {},
   "source": [
    "# Stock predictor\n",
    "\n",
    "We will predict stock's closing prices using LSTM(single feature)"
   ]
  },
  {
   "cell_type": "code",
   "execution_count": 262,
   "metadata": {},
   "outputs": [
    {
     "name": "stdout",
     "output_type": "stream",
     "text": [
      "Requirement already satisfied: pandas-datareader in c:\\users\\nachi\\appdata\\local\\programs\\python\\python311\\lib\\site-packages (0.10.0)\n",
      "Requirement already satisfied: lxml in c:\\users\\nachi\\appdata\\local\\programs\\python\\python311\\lib\\site-packages (from pandas-datareader) (4.9.3)\n",
      "Requirement already satisfied: pandas>=0.23 in c:\\users\\nachi\\appdata\\local\\programs\\python\\python311\\lib\\site-packages (from pandas-datareader) (1.5.3)\n",
      "Requirement already satisfied: requests>=2.19.0 in c:\\users\\nachi\\appdata\\local\\programs\\python\\python311\\lib\\site-packages (from pandas-datareader) (2.31.0)\n",
      "Requirement already satisfied: python-dateutil>=2.8.1 in c:\\users\\nachi\\appdata\\local\\programs\\python\\python311\\lib\\site-packages (from pandas>=0.23->pandas-datareader) (2.8.2)\n",
      "Requirement already satisfied: pytz>=2020.1 in c:\\users\\nachi\\appdata\\local\\programs\\python\\python311\\lib\\site-packages (from pandas>=0.23->pandas-datareader) (2023.3)\n",
      "Requirement already satisfied: numpy>=1.21.0 in c:\\users\\nachi\\appdata\\local\\programs\\python\\python311\\lib\\site-packages (from pandas>=0.23->pandas-datareader) (1.23.5)\n",
      "Requirement already satisfied: charset-normalizer<4,>=2 in c:\\users\\nachi\\appdata\\local\\programs\\python\\python311\\lib\\site-packages (from requests>=2.19.0->pandas-datareader) (2.1.1)\n",
      "Requirement already satisfied: idna<4,>=2.5 in c:\\users\\nachi\\appdata\\local\\programs\\python\\python311\\lib\\site-packages (from requests>=2.19.0->pandas-datareader) (3.4)\n",
      "Requirement already satisfied: urllib3<3,>=1.21.1 in c:\\users\\nachi\\appdata\\local\\programs\\python\\python311\\lib\\site-packages (from requests>=2.19.0->pandas-datareader) (1.26.13)\n",
      "Requirement already satisfied: certifi>=2017.4.17 in c:\\users\\nachi\\appdata\\local\\programs\\python\\python311\\lib\\site-packages (from requests>=2.19.0->pandas-datareader) (2022.12.7)\n",
      "Requirement already satisfied: six>=1.5 in c:\\users\\nachi\\appdata\\local\\programs\\python\\python311\\lib\\site-packages (from python-dateutil>=2.8.1->pandas>=0.23->pandas-datareader) (1.16.0)\n",
      "Requirement already satisfied: tiingo in c:\\users\\nachi\\appdata\\local\\programs\\python\\python311\\lib\\site-packages (0.14.0)\n",
      "Requirement already satisfied: requests in c:\\users\\nachi\\appdata\\local\\programs\\python\\python311\\lib\\site-packages (from tiingo) (2.31.0)\n",
      "Requirement already satisfied: charset-normalizer<4,>=2 in c:\\users\\nachi\\appdata\\local\\programs\\python\\python311\\lib\\site-packages (from requests->tiingo) (2.1.1)\n",
      "Requirement already satisfied: idna<4,>=2.5 in c:\\users\\nachi\\appdata\\local\\programs\\python\\python311\\lib\\site-packages (from requests->tiingo) (3.4)\n",
      "Requirement already satisfied: urllib3<3,>=1.21.1 in c:\\users\\nachi\\appdata\\local\\programs\\python\\python311\\lib\\site-packages (from requests->tiingo) (1.26.13)\n",
      "Requirement already satisfied: certifi>=2017.4.17 in c:\\users\\nachi\\appdata\\local\\programs\\python\\python311\\lib\\site-packages (from requests->tiingo) (2022.12.7)\n"
     ]
    }
   ],
   "source": [
    "!pip install pandas-datareader\n",
    "!pip install tiingo\n"
   ]
  },
  {
   "cell_type": "markdown",
   "metadata": {},
   "source": [
    "## API data fetch"
   ]
  },
  {
   "cell_type": "code",
   "execution_count": 263,
   "metadata": {},
   "outputs": [
    {
     "name": "stderr",
     "output_type": "stream",
     "text": [
      "C:\\Users\\nachi\\AppData\\Local\\Temp\\ipykernel_4576\\1737001057.py:6: FutureWarning: In a future version of pandas all arguments of concat except for the argument 'objs' will be keyword-only.\n",
      "  df = pdr.get_data_tiingo(stock_tick, api_key=key)\n"
     ]
    }
   ],
   "source": [
    "import pandas_datareader as pdr\n",
    "key=\"Enter your API-KEY\"\n",
    "\n",
    "# comapny stock ticker symbol\n",
    "stock_tick='AAPL'\n",
    "df = pdr.get_data_tiingo(stock_tick, api_key=key)"
   ]
  },
  {
   "cell_type": "markdown",
   "metadata": {},
   "source": [
    "## Data visualisation"
   ]
  },
  {
   "cell_type": "code",
   "execution_count": 264,
   "metadata": {},
   "outputs": [
    {
     "data": {
      "text/html": [
       "<div>\n",
       "<style scoped>\n",
       "    .dataframe tbody tr th:only-of-type {\n",
       "        vertical-align: middle;\n",
       "    }\n",
       "\n",
       "    .dataframe tbody tr th {\n",
       "        vertical-align: top;\n",
       "    }\n",
       "\n",
       "    .dataframe thead th {\n",
       "        text-align: right;\n",
       "    }\n",
       "</style>\n",
       "<table border=\"1\" class=\"dataframe\">\n",
       "  <thead>\n",
       "    <tr style=\"text-align: right;\">\n",
       "      <th></th>\n",
       "      <th>symbol</th>\n",
       "      <th>date</th>\n",
       "      <th>close</th>\n",
       "      <th>high</th>\n",
       "      <th>low</th>\n",
       "      <th>open</th>\n",
       "      <th>volume</th>\n",
       "      <th>adjClose</th>\n",
       "      <th>adjHigh</th>\n",
       "      <th>adjLow</th>\n",
       "      <th>adjOpen</th>\n",
       "      <th>adjVolume</th>\n",
       "      <th>divCash</th>\n",
       "      <th>splitFactor</th>\n",
       "    </tr>\n",
       "  </thead>\n",
       "  <tbody>\n",
       "    <tr>\n",
       "      <th>0</th>\n",
       "      <td>AAPL</td>\n",
       "      <td>2018-09-24 00:00:00+00:00</td>\n",
       "      <td>220.79</td>\n",
       "      <td>221.26</td>\n",
       "      <td>216.63</td>\n",
       "      <td>216.82</td>\n",
       "      <td>27693358</td>\n",
       "      <td>52.860624</td>\n",
       "      <td>52.973150</td>\n",
       "      <td>51.864654</td>\n",
       "      <td>51.910143</td>\n",
       "      <td>110773432</td>\n",
       "      <td>0.0</td>\n",
       "      <td>1.0</td>\n",
       "    </tr>\n",
       "    <tr>\n",
       "      <th>1</th>\n",
       "      <td>AAPL</td>\n",
       "      <td>2018-09-25 00:00:00+00:00</td>\n",
       "      <td>222.19</td>\n",
       "      <td>222.82</td>\n",
       "      <td>219.70</td>\n",
       "      <td>219.75</td>\n",
       "      <td>24554379</td>\n",
       "      <td>53.195807</td>\n",
       "      <td>53.346639</td>\n",
       "      <td>52.599661</td>\n",
       "      <td>52.611632</td>\n",
       "      <td>98217516</td>\n",
       "      <td>0.0</td>\n",
       "      <td>1.0</td>\n",
       "    </tr>\n",
       "    <tr>\n",
       "      <th>2</th>\n",
       "      <td>AAPL</td>\n",
       "      <td>2018-09-26 00:00:00+00:00</td>\n",
       "      <td>220.42</td>\n",
       "      <td>223.75</td>\n",
       "      <td>219.76</td>\n",
       "      <td>221.00</td>\n",
       "      <td>23984706</td>\n",
       "      <td>52.772040</td>\n",
       "      <td>53.569295</td>\n",
       "      <td>52.614026</td>\n",
       "      <td>52.910902</td>\n",
       "      <td>95938824</td>\n",
       "      <td>0.0</td>\n",
       "      <td>1.0</td>\n",
       "    </tr>\n",
       "    <tr>\n",
       "      <th>3</th>\n",
       "      <td>AAPL</td>\n",
       "      <td>2018-09-27 00:00:00+00:00</td>\n",
       "      <td>224.95</td>\n",
       "      <td>226.44</td>\n",
       "      <td>223.54</td>\n",
       "      <td>223.82</td>\n",
       "      <td>30181227</td>\n",
       "      <td>53.856594</td>\n",
       "      <td>54.213324</td>\n",
       "      <td>53.519018</td>\n",
       "      <td>53.586054</td>\n",
       "      <td>120724908</td>\n",
       "      <td>0.0</td>\n",
       "      <td>1.0</td>\n",
       "    </tr>\n",
       "    <tr>\n",
       "      <th>4</th>\n",
       "      <td>AAPL</td>\n",
       "      <td>2018-09-28 00:00:00+00:00</td>\n",
       "      <td>225.74</td>\n",
       "      <td>225.84</td>\n",
       "      <td>224.02</td>\n",
       "      <td>224.79</td>\n",
       "      <td>22929364</td>\n",
       "      <td>54.045733</td>\n",
       "      <td>54.069674</td>\n",
       "      <td>53.633938</td>\n",
       "      <td>53.818288</td>\n",
       "      <td>91717456</td>\n",
       "      <td>0.0</td>\n",
       "      <td>1.0</td>\n",
       "    </tr>\n",
       "  </tbody>\n",
       "</table>\n",
       "</div>"
      ],
      "text/plain": [
       "  symbol                       date   close    high     low    open    volume  \\\n",
       "0   AAPL  2018-09-24 00:00:00+00:00  220.79  221.26  216.63  216.82  27693358   \n",
       "1   AAPL  2018-09-25 00:00:00+00:00  222.19  222.82  219.70  219.75  24554379   \n",
       "2   AAPL  2018-09-26 00:00:00+00:00  220.42  223.75  219.76  221.00  23984706   \n",
       "3   AAPL  2018-09-27 00:00:00+00:00  224.95  226.44  223.54  223.82  30181227   \n",
       "4   AAPL  2018-09-28 00:00:00+00:00  225.74  225.84  224.02  224.79  22929364   \n",
       "\n",
       "    adjClose    adjHigh     adjLow    adjOpen  adjVolume  divCash  splitFactor  \n",
       "0  52.860624  52.973150  51.864654  51.910143  110773432      0.0          1.0  \n",
       "1  53.195807  53.346639  52.599661  52.611632   98217516      0.0          1.0  \n",
       "2  52.772040  53.569295  52.614026  52.910902   95938824      0.0          1.0  \n",
       "3  53.856594  54.213324  53.519018  53.586054  120724908      0.0          1.0  \n",
       "4  54.045733  54.069674  53.633938  53.818288   91717456      0.0          1.0  "
      ]
     },
     "execution_count": 264,
     "metadata": {},
     "output_type": "execute_result"
    }
   ],
   "source": [
    "import pandas as pd\n",
    "\n",
    "# create csv to avoid API fetches(50/day for tiingo)\n",
    "df.to_csv(f'{stock_tick}.csv')\n",
    "df=pd.read_csv(f'{stock_tick}.csv')\n",
    "df.head()\n",
    "# df.tail()\n",
    "# df.__len__()"
   ]
  },
  {
   "cell_type": "code",
   "execution_count": 265,
   "metadata": {},
   "outputs": [
    {
     "data": {
      "text/plain": [
       "0       220.79\n",
       "1       222.19\n",
       "2       220.42\n",
       "3       224.95\n",
       "4       225.74\n",
       "         ...  \n",
       "1253    177.97\n",
       "1254    179.07\n",
       "1255    175.49\n",
       "1256    173.93\n",
       "1257    174.79\n",
       "Name: close, Length: 1258, dtype: float64"
      ]
     },
     "execution_count": 265,
     "metadata": {},
     "output_type": "execute_result"
    }
   ],
   "source": [
    "# choosing a single feature \n",
    "df1=df.reset_index()['close']\n",
    "df1"
   ]
  },
  {
   "cell_type": "code",
   "execution_count": 266,
   "metadata": {},
   "outputs": [
    {
     "data": {
      "text/plain": [
       "[<matplotlib.lines.Line2D at 0x21512bfa190>]"
      ]
     },
     "execution_count": 266,
     "metadata": {},
     "output_type": "execute_result"
    },
    {
     "data": {
      "image/png": "[encoded data removed]",
      "text/plain": [
       "<Figure size 640x480 with 1 Axes>"
      ]
     },
     "metadata": {},
     "output_type": "display_data"
    }
   ],
   "source": [
    "import matplotlib.pyplot as plt\n",
    "plt.plot(df1)"
   ]
  },
  {
   "cell_type": "markdown",
   "metadata": {},
   "source": [
    "## Preprocessing"
   ]
  },
  {
   "cell_type": "code",
   "execution_count": 267,
   "metadata": {},
   "outputs": [],
   "source": [
    "# LSTM are sensitive to the scale of the data. So we apply MinMax scaler \n",
    "\n",
    "import numpy as np\n",
    "from sklearn.preprocessing import MinMaxScaler\n",
    "scaler=MinMaxScaler(feature_range=(0,1))\n",
    "df1=scaler.fit_transform(np.array(df1).reshape(-1,1))"
   ]
  },
  {
   "cell_type": "code",
   "execution_count": 268,
   "metadata": {},
   "outputs": [
    {
     "name": "stdout",
     "output_type": "stream",
     "text": [
      "[[0.28541014]\n",
      " [0.28891672]\n",
      " [0.28448341]\n",
      " ...\n",
      " [0.1719474 ]\n",
      " [0.16804008]\n",
      " [0.17019411]]\n"
     ]
    }
   ],
   "source": [
    "# Thus every value is between -1 and 1\n",
    "print(df1)\n",
    "# len(df1)"
   ]
  },
  {
   "cell_type": "code",
   "execution_count": 269,
   "metadata": {},
   "outputs": [
    {
     "data": {
      "text/plain": [
       "(817, 441)"
      ]
     },
     "execution_count": 269,
     "metadata": {},
     "output_type": "execute_result"
    }
   ],
   "source": [
    "# Splitting dataset into train and test split (here train ==> 65%)\n",
    "\n",
    "training_size=int(len(df1)*0.65)\n",
    "test_size=len(df1)-training_size\n",
    "train_data,test_data=df1[0:training_size,:],df1[training_size:len(df1),:1]\n",
    "training_size,test_size"
   ]
  },
  {
   "cell_type": "code",
   "execution_count": null,
   "metadata": {},
   "outputs": [],
   "source": [
    "# train_data"
   ]
  },
  {
   "cell_type": "code",
   "execution_count": 271,
   "metadata": {},
   "outputs": [],
   "source": [
    "import numpy\n",
    "\n",
    "# convert an array of values into a dataset matrix\n",
    "def create_dataset(dataset, time_step=1):\n",
    "\tdataX, dataY = [], []\n",
    "\tfor i in range(len(dataset)-time_step-1):\n",
    "\n",
    "\t\t# i=0, 0,1,2,3-----99   100\n",
    "\t\ta = dataset[i:(i+time_step), 0]    \n",
    "\t\tdataX.append(a)\n",
    "\t\tdataY.append(dataset[i + time_step, 0])\n",
    "\treturn numpy.array(dataX), numpy.array(dataY)"
   ]
  },
  {
   "cell_type": "code",
   "execution_count": 272,
   "metadata": {},
   "outputs": [],
   "source": [
    "# timeseries\n",
    "# reshape into X=t,t+1,t+2,t+3 and Y=t+4\n",
    "# time_step are the no of previous features use to predict y \n",
    "# eg. ts=3 ,x train (100 110 145) , y train 160\n",
    "\n",
    "time_step = 100\n",
    "X_train, y_train = create_dataset(train_data, time_step)\n",
    "X_test, ytest = create_dataset(test_data, time_step)"
   ]
  },
  {
   "cell_type": "code",
   "execution_count": 273,
   "metadata": {},
   "outputs": [
    {
     "name": "stdout",
     "output_type": "stream",
     "text": [
      "(716, 100)\n",
      "(716,)\n"
     ]
    }
   ],
   "source": [
    "print(X_train.shape)\n",
    "print(y_train.shape)\n"
   ]
  },
  {
   "cell_type": "code",
   "execution_count": 274,
   "metadata": {},
   "outputs": [
    {
     "name": "stdout",
     "output_type": "stream",
     "text": [
      "(340, 100)\n",
      "(340,)\n"
     ]
    }
   ],
   "source": [
    "print(X_test.shape)\n",
    "print(ytest.shape)"
   ]
  },
  {
   "cell_type": "code",
   "execution_count": 275,
   "metadata": {},
   "outputs": [],
   "source": [
    "# Reshape input to be [samples, time steps, features] which is required for LSTM\n",
    "X_train =X_train.reshape(X_train.shape[0],X_train.shape[1] , 1)\n",
    "X_test = X_test.reshape(X_test.shape[0],X_test.shape[1] , 1)"
   ]
  },
  {
   "cell_type": "markdown",
   "metadata": {},
   "source": [
    "## Creating the Model"
   ]
  },
  {
   "cell_type": "code",
   "execution_count": 276,
   "metadata": {},
   "outputs": [],
   "source": [
    "### Create the Stacked LSTM model\n",
    "from tensorflow.keras.models import Sequential\n",
    "from tensorflow.keras.layers import Dense\n",
    "from tensorflow.keras.layers import LSTM"
   ]
  },
  {
   "cell_type": "code",
   "execution_count": 277,
   "metadata": {},
   "outputs": [],
   "source": [
    "\n",
    "model=Sequential()\n",
    "model.add(LSTM(50,return_sequences=True,input_shape=(100,1)))\n",
    "model.add(LSTM(50,return_sequences=True))\n",
    "model.add(LSTM(50))\n",
    "model.add(Dense(1))\n",
    "model.compile(loss='mean_squared_error',optimizer='adam')\n"
   ]
  },
  {
   "cell_type": "code",
   "execution_count": 278,
   "metadata": {},
   "outputs": [
    {
     "name": "stdout",
     "output_type": "stream",
     "text": [
      "Model: \"sequential_4\"\n",
      "_________________________________________________________________\n",
      " Layer (type)                Output Shape              Param #   \n",
      "=================================================================\n",
      " lstm_12 (LSTM)              (None, 100, 50)           10400     \n",
      "                                                                 \n",
      " lstm_13 (LSTM)              (None, 100, 50)           20200     \n",
      "                                                                 \n",
      " lstm_14 (LSTM)              (None, 50)                20200     \n",
      "                                                                 \n",
      " dense_4 (Dense)             (None, 1)                 51        \n",
      "                                                                 \n",
      "=================================================================\n",
      "Total params: 50,851\n",
      "Trainable params: 50,851\n",
      "Non-trainable params: 0\n",
      "_________________________________________________________________\n"
     ]
    }
   ],
   "source": [
    "model.summary()"
   ]
  },
  {
   "cell_type": "code",
   "execution_count": 280,
   "metadata": {},
   "outputs": [
    {
     "name": "stdout",
     "output_type": "stream",
     "text": [
      "Epoch 1/100\n",
      "12/12 [==============================] - 19s 444ms/step - loss: 0.0323 - val_loss: 7.5124e-04\n",
      "Epoch 2/100\n",
      "12/12 [==============================] - 2s 209ms/step - loss: 0.0119 - val_loss: 0.0012\n",
      "Epoch 3/100\n",
      "12/12 [==============================] - 2s 191ms/step - loss: 0.0099 - val_loss: 4.2086e-04\n",
      "Epoch 4/100\n",
      "12/12 [==============================] - 2s 194ms/step - loss: 0.0080 - val_loss: 4.3363e-04\n",
      "Epoch 5/100\n",
      "12/12 [==============================] - 2s 193ms/step - loss: 0.0079 - val_loss: 6.2211e-04\n",
      "Epoch 6/100\n",
      "12/12 [==============================] - 3s 222ms/step - loss: 0.0063 - val_loss: 4.5665e-04\n",
      "Epoch 7/100\n",
      "12/12 [==============================] - 3s 218ms/step - loss: 0.0057 - val_loss: 3.1318e-04\n",
      "Epoch 8/100\n",
      "12/12 [==============================] - 3s 233ms/step - loss: 0.0049 - val_loss: 5.6771e-04\n",
      "Epoch 9/100\n",
      "12/12 [==============================] - 2s 200ms/step - loss: 0.0046 - val_loss: 3.9835e-04\n",
      "Epoch 10/100\n",
      "12/12 [==============================] - 2s 189ms/step - loss: 0.0042 - val_loss: 2.6235e-04\n",
      "Epoch 11/100\n",
      "12/12 [==============================] - 2s 191ms/step - loss: 0.0046 - val_loss: 2.8069e-04\n",
      "Epoch 12/100\n",
      "12/12 [==============================] - 2s 190ms/step - loss: 0.0042 - val_loss: 2.3156e-04\n",
      "Epoch 13/100\n",
      "12/12 [==============================] - 3s 234ms/step - loss: 0.0041 - val_loss: 3.8233e-04\n",
      "Epoch 14/100\n",
      "12/12 [==============================] - 3s 225ms/step - loss: 0.0035 - val_loss: 2.9123e-04\n",
      "Epoch 15/100\n",
      "12/12 [==============================] - 3s 222ms/step - loss: 0.0049 - val_loss: 0.0013\n",
      "Epoch 16/100\n",
      "12/12 [==============================] - 2s 195ms/step - loss: 0.0045 - val_loss: 2.2396e-04\n",
      "Epoch 17/100\n",
      "12/12 [==============================] - 3s 220ms/step - loss: 0.0033 - val_loss: 5.5908e-04\n",
      "Epoch 18/100\n",
      "12/12 [==============================] - 2s 188ms/step - loss: 0.0034 - val_loss: 2.8896e-04\n",
      "Epoch 19/100\n",
      "12/12 [==============================] - 2s 175ms/step - loss: 0.0031 - val_loss: 2.3116e-04\n",
      "Epoch 20/100\n",
      "12/12 [==============================] - 2s 173ms/step - loss: 0.0032 - val_loss: 2.0576e-04\n",
      "Epoch 21/100\n",
      "12/12 [==============================] - 2s 173ms/step - loss: 0.0028 - val_loss: 2.9444e-04\n",
      "Epoch 22/100\n",
      "12/12 [==============================] - 2s 198ms/step - loss: 0.0027 - val_loss: 3.4191e-04\n",
      "Epoch 23/100\n",
      "12/12 [==============================] - 2s 193ms/step - loss: 0.0031 - val_loss: 2.3713e-04\n",
      "Epoch 24/100\n",
      "12/12 [==============================] - 2s 179ms/step - loss: 0.0030 - val_loss: 2.6448e-04\n",
      "Epoch 25/100\n",
      "12/12 [==============================] - 2s 207ms/step - loss: 0.0021 - val_loss: 2.5044e-04\n",
      "Epoch 26/100\n",
      "12/12 [==============================] - 3s 238ms/step - loss: 0.0027 - val_loss: 3.0700e-04\n",
      "Epoch 27/100\n",
      "12/12 [==============================] - 3s 216ms/step - loss: 0.0028 - val_loss: 4.9150e-04\n",
      "Epoch 28/100\n",
      "12/12 [==============================] - 3s 240ms/step - loss: 0.0019 - val_loss: 2.3210e-04\n",
      "Epoch 29/100\n",
      "12/12 [==============================] - 3s 213ms/step - loss: 0.0025 - val_loss: 2.0530e-04\n",
      "Epoch 30/100\n",
      "12/12 [==============================] - 2s 179ms/step - loss: 0.0019 - val_loss: 2.1393e-04\n",
      "Epoch 31/100\n",
      "12/12 [==============================] - 2s 161ms/step - loss: 0.0021 - val_loss: 2.3858e-04\n",
      "Epoch 32/100\n",
      "12/12 [==============================] - 2s 166ms/step - loss: 0.0025 - val_loss: 4.5788e-04\n",
      "Epoch 33/100\n",
      "12/12 [==============================] - 2s 185ms/step - loss: 0.0022 - val_loss: 2.3825e-04\n",
      "Epoch 34/100\n",
      "12/12 [==============================] - 3s 211ms/step - loss: 0.0018 - val_loss: 2.3851e-04\n",
      "Epoch 35/100\n",
      "12/12 [==============================] - 2s 179ms/step - loss: 0.0017 - val_loss: 2.2723e-04\n",
      "Epoch 36/100\n",
      "12/12 [==============================] - 2s 159ms/step - loss: 0.0027 - val_loss: 2.1229e-04\n",
      "Epoch 37/100\n",
      "12/12 [==============================] - 2s 164ms/step - loss: 0.0016 - val_loss: 2.0552e-04\n",
      "Epoch 38/100\n",
      "12/12 [==============================] - 2s 187ms/step - loss: 0.0019 - val_loss: 2.1078e-04\n",
      "Epoch 39/100\n",
      "12/12 [==============================] - 2s 191ms/step - loss: 0.0020 - val_loss: 2.1256e-04\n",
      "Epoch 40/100\n",
      "12/12 [==============================] - 2s 164ms/step - loss: 0.0034 - val_loss: 2.3790e-04\n",
      "Epoch 41/100\n",
      "12/12 [==============================] - 2s 163ms/step - loss: 0.0025 - val_loss: 2.4846e-04\n",
      "Epoch 42/100\n",
      "12/12 [==============================] - 2s 166ms/step - loss: 0.0027 - val_loss: 4.0161e-04\n",
      "Epoch 43/100\n",
      "12/12 [==============================] - 2s 154ms/step - loss: 0.0023 - val_loss: 2.2654e-04\n",
      "Epoch 44/100\n",
      "12/12 [==============================] - 2s 180ms/step - loss: 0.0021 - val_loss: 2.0375e-04\n",
      "Epoch 45/100\n",
      "12/12 [==============================] - 2s 194ms/step - loss: 0.0037 - val_loss: 6.2524e-04\n",
      "Epoch 46/100\n",
      "12/12 [==============================] - 2s 203ms/step - loss: 0.0043 - val_loss: 3.5266e-04\n",
      "Epoch 47/100\n",
      "12/12 [==============================] - 2s 179ms/step - loss: 0.0056 - val_loss: 5.9427e-04\n",
      "Epoch 48/100\n",
      "12/12 [==============================] - 2s 177ms/step - loss: 0.0046 - val_loss: 0.0011\n",
      "Epoch 49/100\n",
      "12/12 [==============================] - 2s 162ms/step - loss: 0.0043 - val_loss: 2.0057e-04\n",
      "Epoch 50/100\n",
      "12/12 [==============================] - 2s 153ms/step - loss: 0.0034 - val_loss: 2.1531e-04\n",
      "Epoch 51/100\n",
      "12/12 [==============================] - 2s 173ms/step - loss: 0.0033 - val_loss: 2.4980e-04\n",
      "Epoch 52/100\n",
      "12/12 [==============================] - 2s 186ms/step - loss: 0.0025 - val_loss: 3.1239e-04\n",
      "Epoch 53/100\n",
      "12/12 [==============================] - 2s 171ms/step - loss: 0.0020 - val_loss: 2.7358e-04\n",
      "Epoch 54/100\n",
      "12/12 [==============================] - 2s 204ms/step - loss: 0.0029 - val_loss: 2.3835e-04\n",
      "Epoch 55/100\n",
      "12/12 [==============================] - 2s 165ms/step - loss: 0.0018 - val_loss: 2.0507e-04\n",
      "Epoch 56/100\n",
      "12/12 [==============================] - 2s 193ms/step - loss: 0.0021 - val_loss: 3.3479e-04\n",
      "Epoch 57/100\n",
      "12/12 [==============================] - 2s 176ms/step - loss: 0.0021 - val_loss: 2.0833e-04\n",
      "Epoch 58/100\n",
      "12/12 [==============================] - 2s 167ms/step - loss: 0.0016 - val_loss: 2.3255e-04\n",
      "Epoch 59/100\n",
      "12/12 [==============================] - 2s 163ms/step - loss: 0.0015 - val_loss: 1.9098e-04\n",
      "Epoch 60/100\n",
      "12/12 [==============================] - 2s 155ms/step - loss: 0.0014 - val_loss: 1.9546e-04\n",
      "Epoch 61/100\n",
      "12/12 [==============================] - 2s 160ms/step - loss: 0.0015 - val_loss: 3.0146e-04\n",
      "Epoch 62/100\n",
      "12/12 [==============================] - 2s 166ms/step - loss: 0.0021 - val_loss: 2.9456e-04\n",
      "Epoch 63/100\n",
      "12/12 [==============================] - 2s 158ms/step - loss: 0.0021 - val_loss: 2.6484e-04\n",
      "Epoch 64/100\n",
      "12/12 [==============================] - 2s 160ms/step - loss: 0.0016 - val_loss: 3.1740e-04\n",
      "Epoch 65/100\n",
      "12/12 [==============================] - 2s 158ms/step - loss: 0.0015 - val_loss: 1.9367e-04\n",
      "Epoch 66/100\n",
      "12/12 [==============================] - 2s 167ms/step - loss: 0.0018 - val_loss: 1.9322e-04\n",
      "Epoch 67/100\n",
      "12/12 [==============================] - 2s 161ms/step - loss: 0.0017 - val_loss: 2.3218e-04\n",
      "Epoch 68/100\n",
      "12/12 [==============================] - 2s 153ms/step - loss: 0.0023 - val_loss: 2.5819e-04\n",
      "Epoch 69/100\n",
      "12/12 [==============================] - 2s 158ms/step - loss: 0.0015 - val_loss: 2.1698e-04\n",
      "Epoch 70/100\n",
      "12/12 [==============================] - 2s 175ms/step - loss: 0.0016 - val_loss: 1.8951e-04\n",
      "Epoch 71/100\n",
      "12/12 [==============================] - 2s 204ms/step - loss: 0.0016 - val_loss: 2.2731e-04\n",
      "Epoch 72/100\n",
      "12/12 [==============================] - 2s 166ms/step - loss: 0.0014 - val_loss: 2.1538e-04\n",
      "Epoch 73/100\n",
      "12/12 [==============================] - 2s 195ms/step - loss: 0.0014 - val_loss: 1.9022e-04\n",
      "Epoch 74/100\n",
      "12/12 [==============================] - 2s 198ms/step - loss: 0.0015 - val_loss: 2.4697e-04\n",
      "Epoch 75/100\n",
      "12/12 [==============================] - 2s 180ms/step - loss: 0.0013 - val_loss: 2.1019e-04\n",
      "Epoch 76/100\n",
      "12/12 [==============================] - 3s 209ms/step - loss: 0.0014 - val_loss: 2.5186e-04\n",
      "Epoch 77/100\n",
      "12/12 [==============================] - 2s 183ms/step - loss: 0.0019 - val_loss: 1.9784e-04\n",
      "Epoch 78/100\n",
      "12/12 [==============================] - 2s 162ms/step - loss: 0.0023 - val_loss: 4.7907e-04\n",
      "Epoch 79/100\n",
      "12/12 [==============================] - 2s 163ms/step - loss: 0.0018 - val_loss: 2.0757e-04\n",
      "Epoch 80/100\n",
      "12/12 [==============================] - 2s 160ms/step - loss: 0.0013 - val_loss: 2.0870e-04\n",
      "Epoch 81/100\n",
      "12/12 [==============================] - 2s 181ms/step - loss: 0.0016 - val_loss: 2.1101e-04\n",
      "Epoch 82/100\n",
      "12/12 [==============================] - 2s 168ms/step - loss: 0.0014 - val_loss: 1.9015e-04\n",
      "Epoch 83/100\n",
      "12/12 [==============================] - 2s 157ms/step - loss: 0.0029 - val_loss: 4.4878e-04\n",
      "Epoch 84/100\n",
      "12/12 [==============================] - 2s 159ms/step - loss: 0.0026 - val_loss: 3.8848e-04\n",
      "Epoch 85/100\n",
      "12/12 [==============================] - 2s 168ms/step - loss: 0.0023 - val_loss: 1.8713e-04\n",
      "Epoch 86/100\n",
      "12/12 [==============================] - 2s 154ms/step - loss: 0.0017 - val_loss: 1.8524e-04\n",
      "Epoch 87/100\n",
      "12/12 [==============================] - 2s 155ms/step - loss: 0.0017 - val_loss: 1.8769e-04\n",
      "Epoch 88/100\n",
      "12/12 [==============================] - 2s 158ms/step - loss: 0.0017 - val_loss: 2.4291e-04\n",
      "Epoch 89/100\n",
      "12/12 [==============================] - 2s 174ms/step - loss: 0.0014 - val_loss: 2.0070e-04\n",
      "Epoch 90/100\n",
      "12/12 [==============================] - 2s 161ms/step - loss: 0.0014 - val_loss: 3.0247e-04\n",
      "Epoch 91/100\n",
      "12/12 [==============================] - 2s 159ms/step - loss: 0.0014 - val_loss: 3.3687e-04\n",
      "Epoch 92/100\n",
      "12/12 [==============================] - 2s 159ms/step - loss: 0.0015 - val_loss: 3.0390e-04\n",
      "Epoch 93/100\n",
      "12/12 [==============================] - 2s 171ms/step - loss: 0.0013 - val_loss: 1.7626e-04\n",
      "Epoch 94/100\n",
      "12/12 [==============================] - 2s 173ms/step - loss: 0.0012 - val_loss: 1.7644e-04\n",
      "Epoch 95/100\n",
      "12/12 [==============================] - 3s 215ms/step - loss: 0.0013 - val_loss: 2.2422e-04\n",
      "Epoch 96/100\n",
      "12/12 [==============================] - 2s 183ms/step - loss: 0.0015 - val_loss: 3.5600e-04\n",
      "Epoch 97/100\n",
      "12/12 [==============================] - 2s 166ms/step - loss: 0.0013 - val_loss: 2.7849e-04\n",
      "Epoch 98/100\n",
      "12/12 [==============================] - 2s 164ms/step - loss: 0.0014 - val_loss: 2.5388e-04\n",
      "Epoch 99/100\n",
      "12/12 [==============================] - 2s 162ms/step - loss: 0.0015 - val_loss: 2.7705e-04\n",
      "Epoch 100/100\n",
      "12/12 [==============================] - 2s 163ms/step - loss: 0.0012 - val_loss: 1.7601e-04\n"
     ]
    },
    {
     "data": {
      "text/plain": [
       "<keras.callbacks.History at 0x21512deb650>"
      ]
     },
     "execution_count": 280,
     "metadata": {},
     "output_type": "execute_result"
    }
   ],
   "source": [
    "model.fit(X_train,y_train,validation_data=(X_test,ytest),epochs=100,batch_size=64,verbose=1)"
   ]
  },
  {
   "cell_type": "markdown",
   "metadata": {},
   "source": [
    "## Prediction and performance evaluation"
   ]
  },
  {
   "cell_type": "code",
   "execution_count": 281,
   "metadata": {},
   "outputs": [
    {
     "name": "stdout",
     "output_type": "stream",
     "text": [
      "23/23 [==============================] - 3s 33ms/step\n",
      "11/11 [==============================] - 1s 120ms/step\n"
     ]
    }
   ],
   "source": [
    "train_predict=model.predict(X_train)\n",
    "test_predict=model.predict(X_test)"
   ]
  },
  {
   "cell_type": "code",
   "execution_count": 282,
   "metadata": {},
   "outputs": [],
   "source": [
    "##Transform back to original form (we used MinMax scaler)\n",
    "train_predict=scaler.inverse_transform(train_predict)\n",
    "test_predict=scaler.inverse_transform(test_predict)"
   ]
  },
  {
   "cell_type": "code",
   "execution_count": 283,
   "metadata": {},
   "outputs": [
    {
     "data": {
      "text/plain": [
       "219.24722625827349"
      ]
     },
     "execution_count": 283,
     "metadata": {},
     "output_type": "execute_result"
    }
   ],
   "source": [
    "### Calculate RMSE performance metrics\n",
    "import math\n",
    "from sklearn.metrics import mean_squared_error\n",
    "math.sqrt(mean_squared_error(y_train,train_predict))"
   ]
  },
  {
   "cell_type": "code",
   "execution_count": 284,
   "metadata": {},
   "outputs": [
    {
     "data": {
      "text/plain": [
       "159.093991892227"
      ]
     },
     "execution_count": 284,
     "metadata": {},
     "output_type": "execute_result"
    }
   ],
   "source": [
    "### Test Data RMSE\n",
    "math.sqrt(mean_squared_error(ytest,test_predict))"
   ]
  },
  {
   "cell_type": "markdown",
   "metadata": {},
   "source": [
    "## Plotting "
   ]
  },
  {
   "cell_type": "code",
   "execution_count": 285,
   "metadata": {},
   "outputs": [
    {
     "data": {
      "image/png": "[encoded data removed]",
      "text/plain": [
       "<Figure size 640x480 with 1 Axes>"
      ]
     },
     "metadata": {},
     "output_type": "display_data"
    }
   ],
   "source": [
    "# Shift train predictions for plotting\n",
    "\n",
    "look_back=100 # as time step =100\n",
    "trainPredictPlot = numpy.empty_like(df1)\n",
    "trainPredictPlot[:, :] = np.nan\n",
    "trainPredictPlot[look_back:len(train_predict)+look_back, :] = train_predict\n",
    "\n",
    "# shift test predictions for plotting\n",
    "testPredictPlot = numpy.empty_like(df1)\n",
    "testPredictPlot[:, :] = numpy.nan\n",
    "testPredictPlot[len(train_predict)+(look_back*2)+1:len(df1)-1, :] = test_predict\n",
    "\n",
    "# plot baseline and predictions\n",
    "plt.plot(scaler.inverse_transform(df1))\n",
    "plt.plot(trainPredictPlot)\n",
    "plt.plot(testPredictPlot)\n",
    "plt.show()"
   ]
  },
  {
   "cell_type": "markdown",
   "metadata": {},
   "source": [
    "## Predict future days"
   ]
  },
  {
   "cell_type": "code",
   "execution_count": 286,
   "metadata": {},
   "outputs": [],
   "source": [
    "# previous days data to train from\n",
    "pre_days = 100\n",
    "\n",
    "# next days to predict\n",
    "post_days =30"
   ]
  },
  {
   "cell_type": "code",
   "execution_count": 287,
   "metadata": {},
   "outputs": [
    {
     "data": {
      "text/plain": [
       "(1, 100)"
      ]
     },
     "execution_count": 287,
     "metadata": {},
     "output_type": "execute_result"
    }
   ],
   "source": [
    "x_input=test_data[len(test_data)-pre_days:].reshape(1,-1)\n",
    "x_input.shape"
   ]
  },
  {
   "cell_type": "code",
   "execution_count": null,
   "metadata": {},
   "outputs": [],
   "source": [
    "temp_input=list(x_input)\n",
    "temp_input=temp_input[0].tolist()\n",
    "# temp_input"
   ]
  },
  {
   "cell_type": "code",
   "execution_count": 289,
   "metadata": {},
   "outputs": [
    {
     "name": "stdout",
     "output_type": "stream",
     "text": [
      "[0.17162114]\n",
      "101\n",
      "1 day input [0.15180964 0.14765185 0.16713838 0.16696306 0.16262993 0.16710081\n",
      " 0.16758923 0.16463369 0.16338134 0.16338134 0.16493425 0.17084534\n",
      " 0.17112085 0.16871634 0.16210394 0.16280526 0.16568566 0.17179712\n",
      " 0.1764809  0.17635567 0.183469   0.18562304 0.18219161 0.18126487\n",
      " 0.17778334 0.18467126 0.18564809 0.19273638 0.19153413 0.19313713\n",
      " 0.19829681 0.19556669 0.19579211 0.19316218 0.20077646 0.19997495\n",
      " 0.19644333 0.20343143 0.20641202 0.20726362 0.21823419 0.2144521\n",
      " 0.21162179 0.21282405 0.20999374 0.20480902 0.20348153 0.20771446\n",
      " 0.20964308 0.21001879 0.21828428 0.21763306 0.2210645  0.21613024\n",
      " 0.21314966 0.21517846 0.21735755 0.21956168 0.21635567 0.22289292\n",
      " 0.22444584 0.22232937 0.21475266 0.21122104 0.18822793 0.18036318\n",
      " 0.18274264 0.17871008 0.17815905 0.1777082  0.18189105 0.17685661\n",
      " 0.17465247 0.1682154  0.16944271 0.17282405 0.17630557 0.18604884\n",
      " 0.17417658 0.17976205 0.18371947 0.19356293 0.20240451 0.20295554\n",
      " 0.20693801 0.20753914 0.19053225 0.17713212 0.17868503 0.18164058\n",
      " 0.17397621 0.16874139 0.17257358 0.17074515 0.17815905 0.18091421\n",
      " 0.1719474  0.16804008 0.17019411 0.17162114]\n",
      "1 day output [[0.17045753]]\n",
      "2 day input [0.14765185 0.16713838 0.16696306 0.16262993 0.16710081 0.16758923\n",
      " 0.16463369 0.16338134 0.16338134 0.16493425 0.17084534 0.17112085\n",
      " 0.16871634 0.16210394 0.16280526 0.16568566 0.17179712 0.1764809\n",
      " 0.17635567 0.183469   0.18562304 0.18219161 0.18126487 0.17778334\n",
      " 0.18467126 0.18564809 0.19273638 0.19153413 0.19313713 0.19829681\n",
      " 0.19556669 0.19579211 0.19316218 0.20077646 0.19997495 0.19644333\n",
      " 0.20343143 0.20641202 0.20726362 0.21823419 0.2144521  0.21162179\n",
      " 0.21282405 0.20999374 0.20480902 0.20348153 0.20771446 0.20964308\n",
      " 0.21001879 0.21828428 0.21763306 0.2210645  0.21613024 0.21314966\n",
      " 0.21517846 0.21735755 0.21956168 0.21635567 0.22289292 0.22444584\n",
      " 0.22232937 0.21475266 0.21122104 0.18822793 0.18036318 0.18274264\n",
      " 0.17871008 0.17815905 0.1777082  0.18189105 0.17685661 0.17465247\n",
      " 0.1682154  0.16944271 0.17282405 0.17630557 0.18604884 0.17417658\n",
      " 0.17976205 0.18371947 0.19356293 0.20240451 0.20295554 0.20693801\n",
      " 0.20753914 0.19053225 0.17713212 0.17868503 0.18164058 0.17397621\n",
      " 0.16874139 0.17257358 0.17074515 0.17815905 0.18091421 0.1719474\n",
      " 0.16804008 0.17019411 0.17162114 0.17045753]\n",
      "2 day output [[0.16955492]]\n",
      "3 day input [0.16713838 0.16696306 0.16262993 0.16710081 0.16758923 0.16463369\n",
      " 0.16338134 0.16338134 0.16493425 0.17084534 0.17112085 0.16871634\n",
      " 0.16210394 0.16280526 0.16568566 0.17179712 0.1764809  0.17635567\n",
      " 0.183469   0.18562304 0.18219161 0.18126487 0.17778334 0.18467126\n",
      " 0.18564809 0.19273638 0.19153413 0.19313713 0.19829681 0.19556669\n",
      " 0.19579211 0.19316218 0.20077646 0.19997495 0.19644333 0.20343143\n",
      " 0.20641202 0.20726362 0.21823419 0.2144521  0.21162179 0.21282405\n",
      " 0.20999374 0.20480902 0.20348153 0.20771446 0.20964308 0.21001879\n",
      " 0.21828428 0.21763306 0.2210645  0.21613024 0.21314966 0.21517846\n",
      " 0.21735755 0.21956168 0.21635567 0.22289292 0.22444584 0.22232937\n",
      " 0.21475266 0.21122104 0.18822793 0.18036318 0.18274264 0.17871008\n",
      " 0.17815905 0.1777082  0.18189105 0.17685661 0.17465247 0.1682154\n",
      " 0.16944271 0.17282405 0.17630557 0.18604884 0.17417658 0.17976205\n",
      " 0.18371947 0.19356293 0.20240451 0.20295554 0.20693801 0.20753914\n",
      " 0.19053225 0.17713212 0.17868503 0.18164058 0.17397621 0.16874139\n",
      " 0.17257358 0.17074515 0.17815905 0.18091421 0.1719474  0.16804008\n",
      " 0.17019411 0.17162114 0.17045753 0.16955492]\n",
      "3 day output [[0.168855]]\n",
      "4 day input [0.16696306 0.16262993 0.16710081 0.16758923 0.16463369 0.16338134\n",
      " 0.16338134 0.16493425 0.17084534 0.17112085 0.16871634 0.16210394\n",
      " 0.16280526 0.16568566 0.17179712 0.1764809  0.17635567 0.183469\n",
      " 0.18562304 0.18219161 0.18126487 0.17778334 0.18467126 0.18564809\n",
      " 0.19273638 0.19153413 0.19313713 0.19829681 0.19556669 0.19579211\n",
      " 0.19316218 0.20077646 0.19997495 0.19644333 0.20343143 0.20641202\n",
      " 0.20726362 0.21823419 0.2144521  0.21162179 0.21282405 0.20999374\n",
      " 0.20480902 0.20348153 0.20771446 0.20964308 0.21001879 0.21828428\n",
      " 0.21763306 0.2210645  0.21613024 0.21314966 0.21517846 0.21735755\n",
      " 0.21956168 0.21635567 0.22289292 0.22444584 0.22232937 0.21475266\n",
      " 0.21122104 0.18822793 0.18036318 0.18274264 0.17871008 0.17815905\n",
      " 0.1777082  0.18189105 0.17685661 0.17465247 0.1682154  0.16944271\n",
      " 0.17282405 0.17630557 0.18604884 0.17417658 0.17976205 0.18371947\n",
      " 0.19356293 0.20240451 0.20295554 0.20693801 0.20753914 0.19053225\n",
      " 0.17713212 0.17868503 0.18164058 0.17397621 0.16874139 0.17257358\n",
      " 0.17074515 0.17815905 0.18091421 0.1719474  0.16804008 0.17019411\n",
      " 0.17162114 0.17045753 0.16955492 0.168855  ]\n",
      "4 day output [[0.16830562]]\n",
      "5 day input [0.16262993 0.16710081 0.16758923 0.16463369 0.16338134 0.16338134\n",
      " 0.16493425 0.17084534 0.17112085 0.16871634 0.16210394 0.16280526\n",
      " 0.16568566 0.17179712 0.1764809  0.17635567 0.183469   0.18562304\n",
      " 0.18219161 0.18126487 0.17778334 0.18467126 0.18564809 0.19273638\n",
      " 0.19153413 0.19313713 0.19829681 0.19556669 0.19579211 0.19316218\n",
      " 0.20077646 0.19997495 0.19644333 0.20343143 0.20641202 0.20726362\n",
      " 0.21823419 0.2144521  0.21162179 0.21282405 0.20999374 0.20480902\n",
      " 0.20348153 0.20771446 0.20964308 0.21001879 0.21828428 0.21763306\n",
      " 0.2210645  0.21613024 0.21314966 0.21517846 0.21735755 0.21956168\n",
      " 0.21635567 0.22289292 0.22444584 0.22232937 0.21475266 0.21122104\n",
      " 0.18822793 0.18036318 0.18274264 0.17871008 0.17815905 0.1777082\n",
      " 0.18189105 0.17685661 0.17465247 0.1682154  0.16944271 0.17282405\n",
      " 0.17630557 0.18604884 0.17417658 0.17976205 0.18371947 0.19356293\n",
      " 0.20240451 0.20295554 0.20693801 0.20753914 0.19053225 0.17713212\n",
      " 0.17868503 0.18164058 0.17397621 0.16874139 0.17257358 0.17074515\n",
      " 0.17815905 0.18091421 0.1719474  0.16804008 0.17019411 0.17162114\n",
      " 0.17045753 0.16955492 0.168855   0.16830562]\n",
      "5 day output [[0.16787127]]\n",
      "6 day input [0.16710081 0.16758923 0.16463369 0.16338134 0.16338134 0.16493425\n",
      " 0.17084534 0.17112085 0.16871634 0.16210394 0.16280526 0.16568566\n",
      " 0.17179712 0.1764809  0.17635567 0.183469   0.18562304 0.18219161\n",
      " 0.18126487 0.17778334 0.18467126 0.18564809 0.19273638 0.19153413\n",
      " 0.19313713 0.19829681 0.19556669 0.19579211 0.19316218 0.20077646\n",
      " 0.19997495 0.19644333 0.20343143 0.20641202 0.20726362 0.21823419\n",
      " 0.2144521  0.21162179 0.21282405 0.20999374 0.20480902 0.20348153\n",
      " 0.20771446 0.20964308 0.21001879 0.21828428 0.21763306 0.2210645\n",
      " 0.21613024 0.21314966 0.21517846 0.21735755 0.21956168 0.21635567\n",
      " 0.22289292 0.22444584 0.22232937 0.21475266 0.21122104 0.18822793\n",
      " 0.18036318 0.18274264 0.17871008 0.17815905 0.1777082  0.18189105\n",
      " 0.17685661 0.17465247 0.1682154  0.16944271 0.17282405 0.17630557\n",
      " 0.18604884 0.17417658 0.17976205 0.18371947 0.19356293 0.20240451\n",
      " 0.20295554 0.20693801 0.20753914 0.19053225 0.17713212 0.17868503\n",
      " 0.18164058 0.17397621 0.16874139 0.17257358 0.17074515 0.17815905\n",
      " 0.18091421 0.1719474  0.16804008 0.17019411 0.17162114 0.17045753\n",
      " 0.16955492 0.168855   0.16830562 0.16787127]\n",
      "6 day output [[0.16752939]]\n",
      "7 day input [0.16758923 0.16463369 0.16338134 0.16338134 0.16493425 0.17084534\n",
      " 0.17112085 0.16871634 0.16210394 0.16280526 0.16568566 0.17179712\n",
      " 0.1764809  0.17635567 0.183469   0.18562304 0.18219161 0.18126487\n",
      " 0.17778334 0.18467126 0.18564809 0.19273638 0.19153413 0.19313713\n",
      " 0.19829681 0.19556669 0.19579211 0.19316218 0.20077646 0.19997495\n",
      " 0.19644333 0.20343143 0.20641202 0.20726362 0.21823419 0.2144521\n",
      " 0.21162179 0.21282405 0.20999374 0.20480902 0.20348153 0.20771446\n",
      " 0.20964308 0.21001879 0.21828428 0.21763306 0.2210645  0.21613024\n",
      " 0.21314966 0.21517846 0.21735755 0.21956168 0.21635567 0.22289292\n",
      " 0.22444584 0.22232937 0.21475266 0.21122104 0.18822793 0.18036318\n",
      " 0.18274264 0.17871008 0.17815905 0.1777082  0.18189105 0.17685661\n",
      " 0.17465247 0.1682154  0.16944271 0.17282405 0.17630557 0.18604884\n",
      " 0.17417658 0.17976205 0.18371947 0.19356293 0.20240451 0.20295554\n",
      " 0.20693801 0.20753914 0.19053225 0.17713212 0.17868503 0.18164058\n",
      " 0.17397621 0.16874139 0.17257358 0.17074515 0.17815905 0.18091421\n",
      " 0.1719474  0.16804008 0.17019411 0.17162114 0.17045753 0.16955492\n",
      " 0.168855   0.16830562 0.16787127 0.16752939]\n",
      "7 day output [[0.16726486]]\n",
      "8 day input [0.16463369 0.16338134 0.16338134 0.16493425 0.17084534 0.17112085\n",
      " 0.16871634 0.16210394 0.16280526 0.16568566 0.17179712 0.1764809\n",
      " 0.17635567 0.183469   0.18562304 0.18219161 0.18126487 0.17778334\n",
      " 0.18467126 0.18564809 0.19273638 0.19153413 0.19313713 0.19829681\n",
      " 0.19556669 0.19579211 0.19316218 0.20077646 0.19997495 0.19644333\n",
      " 0.20343143 0.20641202 0.20726362 0.21823419 0.2144521  0.21162179\n",
      " 0.21282405 0.20999374 0.20480902 0.20348153 0.20771446 0.20964308\n",
      " 0.21001879 0.21828428 0.21763306 0.2210645  0.21613024 0.21314966\n",
      " 0.21517846 0.21735755 0.21956168 0.21635567 0.22289292 0.22444584\n",
      " 0.22232937 0.21475266 0.21122104 0.18822793 0.18036318 0.18274264\n",
      " 0.17871008 0.17815905 0.1777082  0.18189105 0.17685661 0.17465247\n",
      " 0.1682154  0.16944271 0.17282405 0.17630557 0.18604884 0.17417658\n",
      " 0.17976205 0.18371947 0.19356293 0.20240451 0.20295554 0.20693801\n",
      " 0.20753914 0.19053225 0.17713212 0.17868503 0.18164058 0.17397621\n",
      " 0.16874139 0.17257358 0.17074515 0.17815905 0.18091421 0.1719474\n",
      " 0.16804008 0.17019411 0.17162114 0.17045753 0.16955492 0.168855\n",
      " 0.16830562 0.16787127 0.16752939 0.16726486]\n",
      "8 day output [[0.16706605]]\n",
      "9 day input [0.16338134 0.16338134 0.16493425 0.17084534 0.17112085 0.16871634\n",
      " 0.16210394 0.16280526 0.16568566 0.17179712 0.1764809  0.17635567\n",
      " 0.183469   0.18562304 0.18219161 0.18126487 0.17778334 0.18467126\n",
      " 0.18564809 0.19273638 0.19153413 0.19313713 0.19829681 0.19556669\n",
      " 0.19579211 0.19316218 0.20077646 0.19997495 0.19644333 0.20343143\n",
      " 0.20641202 0.20726362 0.21823419 0.2144521  0.21162179 0.21282405\n",
      " 0.20999374 0.20480902 0.20348153 0.20771446 0.20964308 0.21001879\n",
      " 0.21828428 0.21763306 0.2210645  0.21613024 0.21314966 0.21517846\n",
      " 0.21735755 0.21956168 0.21635567 0.22289292 0.22444584 0.22232937\n",
      " 0.21475266 0.21122104 0.18822793 0.18036318 0.18274264 0.17871008\n",
      " 0.17815905 0.1777082  0.18189105 0.17685661 0.17465247 0.1682154\n",
      " 0.16944271 0.17282405 0.17630557 0.18604884 0.17417658 0.17976205\n",
      " 0.18371947 0.19356293 0.20240451 0.20295554 0.20693801 0.20753914\n",
      " 0.19053225 0.17713212 0.17868503 0.18164058 0.17397621 0.16874139\n",
      " 0.17257358 0.17074515 0.17815905 0.18091421 0.1719474  0.16804008\n",
      " 0.17019411 0.17162114 0.17045753 0.16955492 0.168855   0.16830562\n",
      " 0.16787127 0.16752939 0.16726486 0.16706605]\n",
      "9 day output [[0.16692252]]\n",
      "10 day input [0.16338134 0.16493425 0.17084534 0.17112085 0.16871634 0.16210394\n",
      " 0.16280526 0.16568566 0.17179712 0.1764809  0.17635567 0.183469\n",
      " 0.18562304 0.18219161 0.18126487 0.17778334 0.18467126 0.18564809\n",
      " 0.19273638 0.19153413 0.19313713 0.19829681 0.19556669 0.19579211\n",
      " 0.19316218 0.20077646 0.19997495 0.19644333 0.20343143 0.20641202\n",
      " 0.20726362 0.21823419 0.2144521  0.21162179 0.21282405 0.20999374\n",
      " 0.20480902 0.20348153 0.20771446 0.20964308 0.21001879 0.21828428\n",
      " 0.21763306 0.2210645  0.21613024 0.21314966 0.21517846 0.21735755\n",
      " 0.21956168 0.21635567 0.22289292 0.22444584 0.22232937 0.21475266\n",
      " 0.21122104 0.18822793 0.18036318 0.18274264 0.17871008 0.17815905\n",
      " 0.1777082  0.18189105 0.17685661 0.17465247 0.1682154  0.16944271\n",
      " 0.17282405 0.17630557 0.18604884 0.17417658 0.17976205 0.18371947\n",
      " 0.19356293 0.20240451 0.20295554 0.20693801 0.20753914 0.19053225\n",
      " 0.17713212 0.17868503 0.18164058 0.17397621 0.16874139 0.17257358\n",
      " 0.17074515 0.17815905 0.18091421 0.1719474  0.16804008 0.17019411\n",
      " 0.17162114 0.17045753 0.16955492 0.168855   0.16830562 0.16787127\n",
      " 0.16752939 0.16726486 0.16706605 0.16692252]\n",
      "10 day output [[0.16682419]]\n",
      "11 day input [0.16493425 0.17084534 0.17112085 0.16871634 0.16210394 0.16280526\n",
      " 0.16568566 0.17179712 0.1764809  0.17635567 0.183469   0.18562304\n",
      " 0.18219161 0.18126487 0.17778334 0.18467126 0.18564809 0.19273638\n",
      " 0.19153413 0.19313713 0.19829681 0.19556669 0.19579211 0.19316218\n",
      " 0.20077646 0.19997495 0.19644333 0.20343143 0.20641202 0.20726362\n",
      " 0.21823419 0.2144521  0.21162179 0.21282405 0.20999374 0.20480902\n",
      " 0.20348153 0.20771446 0.20964308 0.21001879 0.21828428 0.21763306\n",
      " 0.2210645  0.21613024 0.21314966 0.21517846 0.21735755 0.21956168\n",
      " 0.21635567 0.22289292 0.22444584 0.22232937 0.21475266 0.21122104\n",
      " 0.18822793 0.18036318 0.18274264 0.17871008 0.17815905 0.1777082\n",
      " 0.18189105 0.17685661 0.17465247 0.1682154  0.16944271 0.17282405\n",
      " 0.17630557 0.18604884 0.17417658 0.17976205 0.18371947 0.19356293\n",
      " 0.20240451 0.20295554 0.20693801 0.20753914 0.19053225 0.17713212\n",
      " 0.17868503 0.18164058 0.17397621 0.16874139 0.17257358 0.17074515\n",
      " 0.17815905 0.18091421 0.1719474  0.16804008 0.17019411 0.17162114\n",
      " 0.17045753 0.16955492 0.168855   0.16830562 0.16787127 0.16752939\n",
      " 0.16726486 0.16706605 0.16692252 0.16682419]\n",
      "11 day output [[0.166761]]\n",
      "12 day input [0.17084534 0.17112085 0.16871634 0.16210394 0.16280526 0.16568566\n",
      " 0.17179712 0.1764809  0.17635567 0.183469   0.18562304 0.18219161\n",
      " 0.18126487 0.17778334 0.18467126 0.18564809 0.19273638 0.19153413\n",
      " 0.19313713 0.19829681 0.19556669 0.19579211 0.19316218 0.20077646\n",
      " 0.19997495 0.19644333 0.20343143 0.20641202 0.20726362 0.21823419\n",
      " 0.2144521  0.21162179 0.21282405 0.20999374 0.20480902 0.20348153\n",
      " 0.20771446 0.20964308 0.21001879 0.21828428 0.21763306 0.2210645\n",
      " 0.21613024 0.21314966 0.21517846 0.21735755 0.21956168 0.21635567\n",
      " 0.22289292 0.22444584 0.22232937 0.21475266 0.21122104 0.18822793\n",
      " 0.18036318 0.18274264 0.17871008 0.17815905 0.1777082  0.18189105\n",
      " 0.17685661 0.17465247 0.1682154  0.16944271 0.17282405 0.17630557\n",
      " 0.18604884 0.17417658 0.17976205 0.18371947 0.19356293 0.20240451\n",
      " 0.20295554 0.20693801 0.20753914 0.19053225 0.17713212 0.17868503\n",
      " 0.18164058 0.17397621 0.16874139 0.17257358 0.17074515 0.17815905\n",
      " 0.18091421 0.1719474  0.16804008 0.17019411 0.17162114 0.17045753\n",
      " 0.16955492 0.168855   0.16830562 0.16787127 0.16752939 0.16726486\n",
      " 0.16706605 0.16692252 0.16682419 0.166761  ]\n",
      "12 day output [[0.1667232]]\n",
      "13 day input [0.17112085 0.16871634 0.16210394 0.16280526 0.16568566 0.17179712\n",
      " 0.1764809  0.17635567 0.183469   0.18562304 0.18219161 0.18126487\n",
      " 0.17778334 0.18467126 0.18564809 0.19273638 0.19153413 0.19313713\n",
      " 0.19829681 0.19556669 0.19579211 0.19316218 0.20077646 0.19997495\n",
      " 0.19644333 0.20343143 0.20641202 0.20726362 0.21823419 0.2144521\n",
      " 0.21162179 0.21282405 0.20999374 0.20480902 0.20348153 0.20771446\n",
      " 0.20964308 0.21001879 0.21828428 0.21763306 0.2210645  0.21613024\n",
      " 0.21314966 0.21517846 0.21735755 0.21956168 0.21635567 0.22289292\n",
      " 0.22444584 0.22232937 0.21475266 0.21122104 0.18822793 0.18036318\n",
      " 0.18274264 0.17871008 0.17815905 0.1777082  0.18189105 0.17685661\n",
      " 0.17465247 0.1682154  0.16944271 0.17282405 0.17630557 0.18604884\n",
      " 0.17417658 0.17976205 0.18371947 0.19356293 0.20240451 0.20295554\n",
      " 0.20693801 0.20753914 0.19053225 0.17713212 0.17868503 0.18164058\n",
      " 0.17397621 0.16874139 0.17257358 0.17074515 0.17815905 0.18091421\n",
      " 0.1719474  0.16804008 0.17019411 0.17162114 0.17045753 0.16955492\n",
      " 0.168855   0.16830562 0.16787127 0.16752939 0.16726486 0.16706605\n",
      " 0.16692252 0.16682419 0.166761   0.16672321]\n",
      "13 day output [[0.16670167]]\n",
      "14 day input [0.16871634 0.16210394 0.16280526 0.16568566 0.17179712 0.1764809\n",
      " 0.17635567 0.183469   0.18562304 0.18219161 0.18126487 0.17778334\n",
      " 0.18467126 0.18564809 0.19273638 0.19153413 0.19313713 0.19829681\n",
      " 0.19556669 0.19579211 0.19316218 0.20077646 0.19997495 0.19644333\n",
      " 0.20343143 0.20641202 0.20726362 0.21823419 0.2144521  0.21162179\n",
      " 0.21282405 0.20999374 0.20480902 0.20348153 0.20771446 0.20964308\n",
      " 0.21001879 0.21828428 0.21763306 0.2210645  0.21613024 0.21314966\n",
      " 0.21517846 0.21735755 0.21956168 0.21635567 0.22289292 0.22444584\n",
      " 0.22232937 0.21475266 0.21122104 0.18822793 0.18036318 0.18274264\n",
      " 0.17871008 0.17815905 0.1777082  0.18189105 0.17685661 0.17465247\n",
      " 0.1682154  0.16944271 0.17282405 0.17630557 0.18604884 0.17417658\n",
      " 0.17976205 0.18371947 0.19356293 0.20240451 0.20295554 0.20693801\n",
      " 0.20753914 0.19053225 0.17713212 0.17868503 0.18164058 0.17397621\n",
      " 0.16874139 0.17257358 0.17074515 0.17815905 0.18091421 0.1719474\n",
      " 0.16804008 0.17019411 0.17162114 0.17045753 0.16955492 0.168855\n",
      " 0.16830562 0.16787127 0.16752939 0.16726486 0.16706605 0.16692252\n",
      " 0.16682419 0.166761   0.16672321 0.16670167]\n",
      "14 day output [[0.16668822]]\n",
      "15 day input [0.16210394 0.16280526 0.16568566 0.17179712 0.1764809  0.17635567\n",
      " 0.183469   0.18562304 0.18219161 0.18126487 0.17778334 0.18467126\n",
      " 0.18564809 0.19273638 0.19153413 0.19313713 0.19829681 0.19556669\n",
      " 0.19579211 0.19316218 0.20077646 0.19997495 0.19644333 0.20343143\n",
      " 0.20641202 0.20726362 0.21823419 0.2144521  0.21162179 0.21282405\n",
      " 0.20999374 0.20480902 0.20348153 0.20771446 0.20964308 0.21001879\n",
      " 0.21828428 0.21763306 0.2210645  0.21613024 0.21314966 0.21517846\n",
      " 0.21735755 0.21956168 0.21635567 0.22289292 0.22444584 0.22232937\n",
      " 0.21475266 0.21122104 0.18822793 0.18036318 0.18274264 0.17871008\n",
      " 0.17815905 0.1777082  0.18189105 0.17685661 0.17465247 0.1682154\n",
      " 0.16944271 0.17282405 0.17630557 0.18604884 0.17417658 0.17976205\n",
      " 0.18371947 0.19356293 0.20240451 0.20295554 0.20693801 0.20753914\n",
      " 0.19053225 0.17713212 0.17868503 0.18164058 0.17397621 0.16874139\n",
      " 0.17257358 0.17074515 0.17815905 0.18091421 0.1719474  0.16804008\n",
      " 0.17019411 0.17162114 0.17045753 0.16955492 0.168855   0.16830562\n",
      " 0.16787127 0.16752939 0.16726486 0.16706605 0.16692252 0.16682419\n",
      " 0.166761   0.16672321 0.16670167 0.16668822]\n",
      "15 day output [[0.1666756]]\n",
      "16 day input [0.16280526 0.16568566 0.17179712 0.1764809  0.17635567 0.183469\n",
      " 0.18562304 0.18219161 0.18126487 0.17778334 0.18467126 0.18564809\n",
      " 0.19273638 0.19153413 0.19313713 0.19829681 0.19556669 0.19579211\n",
      " 0.19316218 0.20077646 0.19997495 0.19644333 0.20343143 0.20641202\n",
      " 0.20726362 0.21823419 0.2144521  0.21162179 0.21282405 0.20999374\n",
      " 0.20480902 0.20348153 0.20771446 0.20964308 0.21001879 0.21828428\n",
      " 0.21763306 0.2210645  0.21613024 0.21314966 0.21517846 0.21735755\n",
      " 0.21956168 0.21635567 0.22289292 0.22444584 0.22232937 0.21475266\n",
      " 0.21122104 0.18822793 0.18036318 0.18274264 0.17871008 0.17815905\n",
      " 0.1777082  0.18189105 0.17685661 0.17465247 0.1682154  0.16944271\n",
      " 0.17282405 0.17630557 0.18604884 0.17417658 0.17976205 0.18371947\n",
      " 0.19356293 0.20240451 0.20295554 0.20693801 0.20753914 0.19053225\n",
      " 0.17713212 0.17868503 0.18164058 0.17397621 0.16874139 0.17257358\n",
      " 0.17074515 0.17815905 0.18091421 0.1719474  0.16804008 0.17019411\n",
      " 0.17162114 0.17045753 0.16955492 0.168855   0.16830562 0.16787127\n",
      " 0.16752939 0.16726486 0.16706605 0.16692252 0.16682419 0.166761\n",
      " 0.16672321 0.16670167 0.16668822 0.1666756 ]\n",
      "16 day output [[0.1666577]]\n",
      "17 day input [0.16568566 0.17179712 0.1764809  0.17635567 0.183469   0.18562304\n",
      " 0.18219161 0.18126487 0.17778334 0.18467126 0.18564809 0.19273638\n",
      " 0.19153413 0.19313713 0.19829681 0.19556669 0.19579211 0.19316218\n",
      " 0.20077646 0.19997495 0.19644333 0.20343143 0.20641202 0.20726362\n",
      " 0.21823419 0.2144521  0.21162179 0.21282405 0.20999374 0.20480902\n",
      " 0.20348153 0.20771446 0.20964308 0.21001879 0.21828428 0.21763306\n",
      " 0.2210645  0.21613024 0.21314966 0.21517846 0.21735755 0.21956168\n",
      " 0.21635567 0.22289292 0.22444584 0.22232937 0.21475266 0.21122104\n",
      " 0.18822793 0.18036318 0.18274264 0.17871008 0.17815905 0.1777082\n",
      " 0.18189105 0.17685661 0.17465247 0.1682154  0.16944271 0.17282405\n",
      " 0.17630557 0.18604884 0.17417658 0.17976205 0.18371947 0.19356293\n",
      " 0.20240451 0.20295554 0.20693801 0.20753914 0.19053225 0.17713212\n",
      " 0.17868503 0.18164058 0.17397621 0.16874139 0.17257358 0.17074515\n",
      " 0.17815905 0.18091421 0.1719474  0.16804008 0.17019411 0.17162114\n",
      " 0.17045753 0.16955492 0.168855   0.16830562 0.16787127 0.16752939\n",
      " 0.16726486 0.16706605 0.16692252 0.16682419 0.166761   0.16672321\n",
      " 0.16670167 0.16668822 0.1666756  0.1666577 ]\n",
      "17 day output [[0.16662958]]\n",
      "18 day input [0.17179712 0.1764809  0.17635567 0.183469   0.18562304 0.18219161\n",
      " 0.18126487 0.17778334 0.18467126 0.18564809 0.19273638 0.19153413\n",
      " 0.19313713 0.19829681 0.19556669 0.19579211 0.19316218 0.20077646\n",
      " 0.19997495 0.19644333 0.20343143 0.20641202 0.20726362 0.21823419\n",
      " 0.2144521  0.21162179 0.21282405 0.20999374 0.20480902 0.20348153\n",
      " 0.20771446 0.20964308 0.21001879 0.21828428 0.21763306 0.2210645\n",
      " 0.21613024 0.21314966 0.21517846 0.21735755 0.21956168 0.21635567\n",
      " 0.22289292 0.22444584 0.22232937 0.21475266 0.21122104 0.18822793\n",
      " 0.18036318 0.18274264 0.17871008 0.17815905 0.1777082  0.18189105\n",
      " 0.17685661 0.17465247 0.1682154  0.16944271 0.17282405 0.17630557\n",
      " 0.18604884 0.17417658 0.17976205 0.18371947 0.19356293 0.20240451\n",
      " 0.20295554 0.20693801 0.20753914 0.19053225 0.17713212 0.17868503\n",
      " 0.18164058 0.17397621 0.16874139 0.17257358 0.17074515 0.17815905\n",
      " 0.18091421 0.1719474  0.16804008 0.17019411 0.17162114 0.17045753\n",
      " 0.16955492 0.168855   0.16830562 0.16787127 0.16752939 0.16726486\n",
      " 0.16706605 0.16692252 0.16682419 0.166761   0.16672321 0.16670167\n",
      " 0.16668822 0.1666756  0.1666577  0.16662958]\n",
      "18 day output [[0.16658744]]\n",
      "19 day input [0.1764809  0.17635567 0.183469   0.18562304 0.18219161 0.18126487\n",
      " 0.17778334 0.18467126 0.18564809 0.19273638 0.19153413 0.19313713\n",
      " 0.19829681 0.19556669 0.19579211 0.19316218 0.20077646 0.19997495\n",
      " 0.19644333 0.20343143 0.20641202 0.20726362 0.21823419 0.2144521\n",
      " 0.21162179 0.21282405 0.20999374 0.20480902 0.20348153 0.20771446\n",
      " 0.20964308 0.21001879 0.21828428 0.21763306 0.2210645  0.21613024\n",
      " 0.21314966 0.21517846 0.21735755 0.21956168 0.21635567 0.22289292\n",
      " 0.22444584 0.22232937 0.21475266 0.21122104 0.18822793 0.18036318\n",
      " 0.18274264 0.17871008 0.17815905 0.1777082  0.18189105 0.17685661\n",
      " 0.17465247 0.1682154  0.16944271 0.17282405 0.17630557 0.18604884\n",
      " 0.17417658 0.17976205 0.18371947 0.19356293 0.20240451 0.20295554\n",
      " 0.20693801 0.20753914 0.19053225 0.17713212 0.17868503 0.18164058\n",
      " 0.17397621 0.16874139 0.17257358 0.17074515 0.17815905 0.18091421\n",
      " 0.1719474  0.16804008 0.17019411 0.17162114 0.17045753 0.16955492\n",
      " 0.168855   0.16830562 0.16787127 0.16752939 0.16726486 0.16706605\n",
      " 0.16692252 0.16682419 0.166761   0.16672321 0.16670167 0.16668822\n",
      " 0.1666756  0.1666577  0.16662958 0.16658744]\n",
      "19 day output [[0.16652863]]\n",
      "20 day input [0.17635567 0.183469   0.18562304 0.18219161 0.18126487 0.17778334\n",
      " 0.18467126 0.18564809 0.19273638 0.19153413 0.19313713 0.19829681\n",
      " 0.19556669 0.19579211 0.19316218 0.20077646 0.19997495 0.19644333\n",
      " 0.20343143 0.20641202 0.20726362 0.21823419 0.2144521  0.21162179\n",
      " 0.21282405 0.20999374 0.20480902 0.20348153 0.20771446 0.20964308\n",
      " 0.21001879 0.21828428 0.21763306 0.2210645  0.21613024 0.21314966\n",
      " 0.21517846 0.21735755 0.21956168 0.21635567 0.22289292 0.22444584\n",
      " 0.22232937 0.21475266 0.21122104 0.18822793 0.18036318 0.18274264\n",
      " 0.17871008 0.17815905 0.1777082  0.18189105 0.17685661 0.17465247\n",
      " 0.1682154  0.16944271 0.17282405 0.17630557 0.18604884 0.17417658\n",
      " 0.17976205 0.18371947 0.19356293 0.20240451 0.20295554 0.20693801\n",
      " 0.20753914 0.19053225 0.17713212 0.17868503 0.18164058 0.17397621\n",
      " 0.16874139 0.17257358 0.17074515 0.17815905 0.18091421 0.1719474\n",
      " 0.16804008 0.17019411 0.17162114 0.17045753 0.16955492 0.168855\n",
      " 0.16830562 0.16787127 0.16752939 0.16726486 0.16706605 0.16692252\n",
      " 0.16682419 0.166761   0.16672321 0.16670167 0.16668822 0.1666756\n",
      " 0.1666577  0.16662958 0.16658744 0.16652863]\n",
      "20 day output [[0.16645153]]\n",
      "21 day input [0.183469   0.18562304 0.18219161 0.18126487 0.17778334 0.18467126\n",
      " 0.18564809 0.19273638 0.19153413 0.19313713 0.19829681 0.19556669\n",
      " 0.19579211 0.19316218 0.20077646 0.19997495 0.19644333 0.20343143\n",
      " 0.20641202 0.20726362 0.21823419 0.2144521  0.21162179 0.21282405\n",
      " 0.20999374 0.20480902 0.20348153 0.20771446 0.20964308 0.21001879\n",
      " 0.21828428 0.21763306 0.2210645  0.21613024 0.21314966 0.21517846\n",
      " 0.21735755 0.21956168 0.21635567 0.22289292 0.22444584 0.22232937\n",
      " 0.21475266 0.21122104 0.18822793 0.18036318 0.18274264 0.17871008\n",
      " 0.17815905 0.1777082  0.18189105 0.17685661 0.17465247 0.1682154\n",
      " 0.16944271 0.17282405 0.17630557 0.18604884 0.17417658 0.17976205\n",
      " 0.18371947 0.19356293 0.20240451 0.20295554 0.20693801 0.20753914\n",
      " 0.19053225 0.17713212 0.17868503 0.18164058 0.17397621 0.16874139\n",
      " 0.17257358 0.17074515 0.17815905 0.18091421 0.1719474  0.16804008\n",
      " 0.17019411 0.17162114 0.17045753 0.16955492 0.168855   0.16830562\n",
      " 0.16787127 0.16752939 0.16726486 0.16706605 0.16692252 0.16682419\n",
      " 0.166761   0.16672321 0.16670167 0.16668822 0.1666756  0.1666577\n",
      " 0.16662958 0.16658744 0.16652863 0.16645153]\n",
      "21 day output [[0.1663555]]\n",
      "22 day input [0.18562304 0.18219161 0.18126487 0.17778334 0.18467126 0.18564809\n",
      " 0.19273638 0.19153413 0.19313713 0.19829681 0.19556669 0.19579211\n",
      " 0.19316218 0.20077646 0.19997495 0.19644333 0.20343143 0.20641202\n",
      " 0.20726362 0.21823419 0.2144521  0.21162179 0.21282405 0.20999374\n",
      " 0.20480902 0.20348153 0.20771446 0.20964308 0.21001879 0.21828428\n",
      " 0.21763306 0.2210645  0.21613024 0.21314966 0.21517846 0.21735755\n",
      " 0.21956168 0.21635567 0.22289292 0.22444584 0.22232937 0.21475266\n",
      " 0.21122104 0.18822793 0.18036318 0.18274264 0.17871008 0.17815905\n",
      " 0.1777082  0.18189105 0.17685661 0.17465247 0.1682154  0.16944271\n",
      " 0.17282405 0.17630557 0.18604884 0.17417658 0.17976205 0.18371947\n",
      " 0.19356293 0.20240451 0.20295554 0.20693801 0.20753914 0.19053225\n",
      " 0.17713212 0.17868503 0.18164058 0.17397621 0.16874139 0.17257358\n",
      " 0.17074515 0.17815905 0.18091421 0.1719474  0.16804008 0.17019411\n",
      " 0.17162114 0.17045753 0.16955492 0.168855   0.16830562 0.16787127\n",
      " 0.16752939 0.16726486 0.16706605 0.16692252 0.16682419 0.166761\n",
      " 0.16672321 0.16670167 0.16668822 0.1666756  0.1666577  0.16662958\n",
      " 0.16658744 0.16652863 0.16645153 0.16635551]\n",
      "22 day output [[0.16624056]]\n",
      "23 day input [0.18219161 0.18126487 0.17778334 0.18467126 0.18564809 0.19273638\n",
      " 0.19153413 0.19313713 0.19829681 0.19556669 0.19579211 0.19316218\n",
      " 0.20077646 0.19997495 0.19644333 0.20343143 0.20641202 0.20726362\n",
      " 0.21823419 0.2144521  0.21162179 0.21282405 0.20999374 0.20480902\n",
      " 0.20348153 0.20771446 0.20964308 0.21001879 0.21828428 0.21763306\n",
      " 0.2210645  0.21613024 0.21314966 0.21517846 0.21735755 0.21956168\n",
      " 0.21635567 0.22289292 0.22444584 0.22232937 0.21475266 0.21122104\n",
      " 0.18822793 0.18036318 0.18274264 0.17871008 0.17815905 0.1777082\n",
      " 0.18189105 0.17685661 0.17465247 0.1682154  0.16944271 0.17282405\n",
      " 0.17630557 0.18604884 0.17417658 0.17976205 0.18371947 0.19356293\n",
      " 0.20240451 0.20295554 0.20693801 0.20753914 0.19053225 0.17713212\n",
      " 0.17868503 0.18164058 0.17397621 0.16874139 0.17257358 0.17074515\n",
      " 0.17815905 0.18091421 0.1719474  0.16804008 0.17019411 0.17162114\n",
      " 0.17045753 0.16955492 0.168855   0.16830562 0.16787127 0.16752939\n",
      " 0.16726486 0.16706605 0.16692252 0.16682419 0.166761   0.16672321\n",
      " 0.16670167 0.16668822 0.1666756  0.1666577  0.16662958 0.16658744\n",
      " 0.16652863 0.16645153 0.16635551 0.16624056]\n",
      "23 day output [[0.16610745]]\n",
      "24 day input [0.18126487 0.17778334 0.18467126 0.18564809 0.19273638 0.19153413\n",
      " 0.19313713 0.19829681 0.19556669 0.19579211 0.19316218 0.20077646\n",
      " 0.19997495 0.19644333 0.20343143 0.20641202 0.20726362 0.21823419\n",
      " 0.2144521  0.21162179 0.21282405 0.20999374 0.20480902 0.20348153\n",
      " 0.20771446 0.20964308 0.21001879 0.21828428 0.21763306 0.2210645\n",
      " 0.21613024 0.21314966 0.21517846 0.21735755 0.21956168 0.21635567\n",
      " 0.22289292 0.22444584 0.22232937 0.21475266 0.21122104 0.18822793\n",
      " 0.18036318 0.18274264 0.17871008 0.17815905 0.1777082  0.18189105\n",
      " 0.17685661 0.17465247 0.1682154  0.16944271 0.17282405 0.17630557\n",
      " 0.18604884 0.17417658 0.17976205 0.18371947 0.19356293 0.20240451\n",
      " 0.20295554 0.20693801 0.20753914 0.19053225 0.17713212 0.17868503\n",
      " 0.18164058 0.17397621 0.16874139 0.17257358 0.17074515 0.17815905\n",
      " 0.18091421 0.1719474  0.16804008 0.17019411 0.17162114 0.17045753\n",
      " 0.16955492 0.168855   0.16830562 0.16787127 0.16752939 0.16726486\n",
      " 0.16706605 0.16692252 0.16682419 0.166761   0.16672321 0.16670167\n",
      " 0.16668822 0.1666756  0.1666577  0.16662958 0.16658744 0.16652863\n",
      " 0.16645153 0.16635551 0.16624056 0.16610745]\n",
      "24 day output [[0.1659576]]\n",
      "25 day input [0.17778334 0.18467126 0.18564809 0.19273638 0.19153413 0.19313713\n",
      " 0.19829681 0.19556669 0.19579211 0.19316218 0.20077646 0.19997495\n",
      " 0.19644333 0.20343143 0.20641202 0.20726362 0.21823419 0.2144521\n",
      " 0.21162179 0.21282405 0.20999374 0.20480902 0.20348153 0.20771446\n",
      " 0.20964308 0.21001879 0.21828428 0.21763306 0.2210645  0.21613024\n",
      " 0.21314966 0.21517846 0.21735755 0.21956168 0.21635567 0.22289292\n",
      " 0.22444584 0.22232937 0.21475266 0.21122104 0.18822793 0.18036318\n",
      " 0.18274264 0.17871008 0.17815905 0.1777082  0.18189105 0.17685661\n",
      " 0.17465247 0.1682154  0.16944271 0.17282405 0.17630557 0.18604884\n",
      " 0.17417658 0.17976205 0.18371947 0.19356293 0.20240451 0.20295554\n",
      " 0.20693801 0.20753914 0.19053225 0.17713212 0.17868503 0.18164058\n",
      " 0.17397621 0.16874139 0.17257358 0.17074515 0.17815905 0.18091421\n",
      " 0.1719474  0.16804008 0.17019411 0.17162114 0.17045753 0.16955492\n",
      " 0.168855   0.16830562 0.16787127 0.16752939 0.16726486 0.16706605\n",
      " 0.16692252 0.16682419 0.166761   0.16672321 0.16670167 0.16668822\n",
      " 0.1666756  0.1666577  0.16662958 0.16658744 0.16652863 0.16645153\n",
      " 0.16635551 0.16624056 0.16610745 0.1659576 ]\n",
      "25 day output [[0.16579248]]\n",
      "26 day input [0.18467126 0.18564809 0.19273638 0.19153413 0.19313713 0.19829681\n",
      " 0.19556669 0.19579211 0.19316218 0.20077646 0.19997495 0.19644333\n",
      " 0.20343143 0.20641202 0.20726362 0.21823419 0.2144521  0.21162179\n",
      " 0.21282405 0.20999374 0.20480902 0.20348153 0.20771446 0.20964308\n",
      " 0.21001879 0.21828428 0.21763306 0.2210645  0.21613024 0.21314966\n",
      " 0.21517846 0.21735755 0.21956168 0.21635567 0.22289292 0.22444584\n",
      " 0.22232937 0.21475266 0.21122104 0.18822793 0.18036318 0.18274264\n",
      " 0.17871008 0.17815905 0.1777082  0.18189105 0.17685661 0.17465247\n",
      " 0.1682154  0.16944271 0.17282405 0.17630557 0.18604884 0.17417658\n",
      " 0.17976205 0.18371947 0.19356293 0.20240451 0.20295554 0.20693801\n",
      " 0.20753914 0.19053225 0.17713212 0.17868503 0.18164058 0.17397621\n",
      " 0.16874139 0.17257358 0.17074515 0.17815905 0.18091421 0.1719474\n",
      " 0.16804008 0.17019411 0.17162114 0.17045753 0.16955492 0.168855\n",
      " 0.16830562 0.16787127 0.16752939 0.16726486 0.16706605 0.16692252\n",
      " 0.16682419 0.166761   0.16672321 0.16670167 0.16668822 0.1666756\n",
      " 0.1666577  0.16662958 0.16658744 0.16652863 0.16645153 0.16635551\n",
      " 0.16624056 0.16610745 0.1659576  0.16579248]\n",
      "26 day output [[0.16561413]]\n",
      "27 day input [0.18564809 0.19273638 0.19153413 0.19313713 0.19829681 0.19556669\n",
      " 0.19579211 0.19316218 0.20077646 0.19997495 0.19644333 0.20343143\n",
      " 0.20641202 0.20726362 0.21823419 0.2144521  0.21162179 0.21282405\n",
      " 0.20999374 0.20480902 0.20348153 0.20771446 0.20964308 0.21001879\n",
      " 0.21828428 0.21763306 0.2210645  0.21613024 0.21314966 0.21517846\n",
      " 0.21735755 0.21956168 0.21635567 0.22289292 0.22444584 0.22232937\n",
      " 0.21475266 0.21122104 0.18822793 0.18036318 0.18274264 0.17871008\n",
      " 0.17815905 0.1777082  0.18189105 0.17685661 0.17465247 0.1682154\n",
      " 0.16944271 0.17282405 0.17630557 0.18604884 0.17417658 0.17976205\n",
      " 0.18371947 0.19356293 0.20240451 0.20295554 0.20693801 0.20753914\n",
      " 0.19053225 0.17713212 0.17868503 0.18164058 0.17397621 0.16874139\n",
      " 0.17257358 0.17074515 0.17815905 0.18091421 0.1719474  0.16804008\n",
      " 0.17019411 0.17162114 0.17045753 0.16955492 0.168855   0.16830562\n",
      " 0.16787127 0.16752939 0.16726486 0.16706605 0.16692252 0.16682419\n",
      " 0.166761   0.16672321 0.16670167 0.16668822 0.1666756  0.1666577\n",
      " 0.16662958 0.16658744 0.16652863 0.16645153 0.16635551 0.16624056\n",
      " 0.16610745 0.1659576  0.16579248 0.16561413]\n",
      "27 day output [[0.16542451]]\n",
      "28 day input [0.19273638 0.19153413 0.19313713 0.19829681 0.19556669 0.19579211\n",
      " 0.19316218 0.20077646 0.19997495 0.19644333 0.20343143 0.20641202\n",
      " 0.20726362 0.21823419 0.2144521  0.21162179 0.21282405 0.20999374\n",
      " 0.20480902 0.20348153 0.20771446 0.20964308 0.21001879 0.21828428\n",
      " 0.21763306 0.2210645  0.21613024 0.21314966 0.21517846 0.21735755\n",
      " 0.21956168 0.21635567 0.22289292 0.22444584 0.22232937 0.21475266\n",
      " 0.21122104 0.18822793 0.18036318 0.18274264 0.17871008 0.17815905\n",
      " 0.1777082  0.18189105 0.17685661 0.17465247 0.1682154  0.16944271\n",
      " 0.17282405 0.17630557 0.18604884 0.17417658 0.17976205 0.18371947\n",
      " 0.19356293 0.20240451 0.20295554 0.20693801 0.20753914 0.19053225\n",
      " 0.17713212 0.17868503 0.18164058 0.17397621 0.16874139 0.17257358\n",
      " 0.17074515 0.17815905 0.18091421 0.1719474  0.16804008 0.17019411\n",
      " 0.17162114 0.17045753 0.16955492 0.168855   0.16830562 0.16787127\n",
      " 0.16752939 0.16726486 0.16706605 0.16692252 0.16682419 0.166761\n",
      " 0.16672321 0.16670167 0.16668822 0.1666756  0.1666577  0.16662958\n",
      " 0.16658744 0.16652863 0.16645153 0.16635551 0.16624056 0.16610745\n",
      " 0.1659576  0.16579248 0.16561413 0.16542451]\n",
      "28 day output [[0.1652258]]\n",
      "29 day input [0.19153413 0.19313713 0.19829681 0.19556669 0.19579211 0.19316218\n",
      " 0.20077646 0.19997495 0.19644333 0.20343143 0.20641202 0.20726362\n",
      " 0.21823419 0.2144521  0.21162179 0.21282405 0.20999374 0.20480902\n",
      " 0.20348153 0.20771446 0.20964308 0.21001879 0.21828428 0.21763306\n",
      " 0.2210645  0.21613024 0.21314966 0.21517846 0.21735755 0.21956168\n",
      " 0.21635567 0.22289292 0.22444584 0.22232937 0.21475266 0.21122104\n",
      " 0.18822793 0.18036318 0.18274264 0.17871008 0.17815905 0.1777082\n",
      " 0.18189105 0.17685661 0.17465247 0.1682154  0.16944271 0.17282405\n",
      " 0.17630557 0.18604884 0.17417658 0.17976205 0.18371947 0.19356293\n",
      " 0.20240451 0.20295554 0.20693801 0.20753914 0.19053225 0.17713212\n",
      " 0.17868503 0.18164058 0.17397621 0.16874139 0.17257358 0.17074515\n",
      " 0.17815905 0.18091421 0.1719474  0.16804008 0.17019411 0.17162114\n",
      " 0.17045753 0.16955492 0.168855   0.16830562 0.16787127 0.16752939\n",
      " 0.16726486 0.16706605 0.16692252 0.16682419 0.166761   0.16672321\n",
      " 0.16670167 0.16668822 0.1666756  0.1666577  0.16662958 0.16658744\n",
      " 0.16652863 0.16645153 0.16635551 0.16624056 0.16610745 0.1659576\n",
      " 0.16579248 0.16561413 0.16542451 0.1652258 ]\n",
      "29 day output [[0.16502005]]\n",
      "[[0.1716211438179016], [0.17045752704143524], [0.1695549190044403], [0.1688549965620041], [0.16830562055110931], [0.16787126660346985], [0.1675293892621994], [0.16726486384868622], [0.1670660525560379], [0.16692252457141876], [0.16682419180870056], [0.16676099598407745], [0.16672320663928986], [0.16670167446136475], [0.1666882187128067], [0.1666755974292755], [0.1666577011346817], [0.1666295826435089], [0.1665874421596527], [0.1665286272764206], [0.16645152866840363], [0.16635550558567047], [0.16624055802822113], [0.1661074459552765], [0.16595759987831116], [0.16579248011112213], [0.16561412811279297], [0.16542451083660126], [0.1652258038520813], [0.16502004861831665]]\n"
     ]
    }
   ],
   "source": [
    "# Demonstrate prediction for next n days\n",
    "from numpy import array\n",
    "\n",
    "lst_output=[]\n",
    "n_steps=pre_days\n",
    "i=0\n",
    "while(i<post_days):\n",
    "    \n",
    "\n",
    "    if(len(temp_input)>pre_days):\n",
    "        #print(temp_input)\n",
    "        # Shifting one position to right for next training data set\n",
    "        x_input=np.array(temp_input[1:])\n",
    "        print(\"{} day input {}\".format(i,x_input))\n",
    "        x_input=x_input.reshape(1,-1)\n",
    "        x_input = x_input.reshape((1, n_steps, 1))\n",
    "        #print(x_input)\n",
    "        yhat = model.predict(x_input, verbose=0)\n",
    "        print(\"{} day output {}\".format(i,yhat))\n",
    "        temp_input.extend(yhat[0].tolist())\n",
    "        temp_input=temp_input[1:]\n",
    "        #print(temp_input)\n",
    "        lst_output.extend(yhat.tolist())\n",
    "        i=i+1\n",
    "\n",
    "    # for 1st step make pre_day to preday+1 inputs eg(100==>101)\n",
    "    else:\n",
    "        x_input = x_input.reshape((1, n_steps,1))\n",
    "        yhat = model.predict(x_input, verbose=0)\n",
    "        print(yhat[0])\n",
    "        temp_input.extend(yhat[0].tolist())\n",
    "        print(len(temp_input))\n",
    "        lst_output.extend(yhat.tolist())\n",
    "        i=i+1\n",
    "    \n",
    "\n",
    "# print(lst_output)"
   ]
  },
  {
   "cell_type": "code",
   "execution_count": 290,
   "metadata": {},
   "outputs": [
    {
     "data": {
      "text/plain": [
       "1258"
      ]
     },
     "execution_count": 290,
     "metadata": {},
     "output_type": "execute_result"
    }
   ],
   "source": [
    "day_new=np.arange(1,1+pre_days)\n",
    "day_pred=np.arange(1+pre_days,1+pre_days+post_days)\n",
    "len(df1)\n",
    "# lst_output.__len__()\n",
    "# 1258-150"
   ]
  },
  {
   "cell_type": "code",
   "execution_count": 291,
   "metadata": {},
   "outputs": [
    {
     "data": {
      "text/plain": [
       "[<matplotlib.lines.Line2D at 0x215157463d0>]"
      ]
     },
     "execution_count": 291,
     "metadata": {},
     "output_type": "execute_result"
    },
    {
     "data": {
      "image/png": "[encoded data removed]",
      "text/plain": [
       "<Figure size 640x480 with 1 Axes>"
      ]
     },
     "metadata": {},
     "output_type": "display_data"
    }
   ],
   "source": [
    "import matplotlib.pyplot as plt\n",
    "plt.plot(day_new,scaler.inverse_transform(df1[len(df1)-pre_days:]))\n",
    "plt.plot(day_pred,scaler.inverse_transform(lst_output))"
   ]
  },
  {
   "cell_type": "code",
   "execution_count": 292,
   "metadata": {},
   "outputs": [
    {
     "data": {
      "text/plain": [
       "[<matplotlib.lines.Line2D at 0x2151454bfd0>]"
      ]
     },
     "execution_count": 292,
     "metadata": {},
     "output_type": "execute_result"
    },
    {
     "data": {
      "image/png": "[encoded data removed]",
      "text/plain": [
       "<Figure size 640x480 with 1 Axes>"
      ]
     },
     "metadata": {},
     "output_type": "display_data"
    }
   ],
   "source": [
    "df3=df1.tolist()\n",
    "df3.extend(lst_output)\n",
    "# print(len(df3))\n",
    "# to check the last x days\n",
    "plt.plot(df3[-300:])"
   ]
  },
  {
   "cell_type": "code",
   "execution_count": 293,
   "metadata": {},
   "outputs": [
    {
     "data": {
      "text/plain": [
       "[<matplotlib.lines.Line2D at 0x2151455bb10>]"
      ]
     },
     "execution_count": 293,
     "metadata": {},
     "output_type": "execute_result"
    },
    {
     "data": {
      "image/png": "[encoded data removed]",
      "text/plain": [
       "<Figure size 640x480 with 1 Axes>"
      ]
     },
     "metadata": {},
     "output_type": "display_data"
    }
   ],
   "source": [
    "# to plot actual values\n",
    "df3=scaler.inverse_transform(df3).tolist()\n",
    "plt.plot(df3)\n",
    "# plt.plot(df3[-100:])"
   ]
  }
 ],
 "metadata": {
  "kernelspec": {
   "display_name": "Python 3",
   "language": "python",
   "name": "python3"
  },
  "language_info": {
   "codemirror_mode": {
    "name": "ipython",
    "version": 3
   },
   "file_extension": ".py",
   "mimetype": "text/x-python",
   "name": "python",
   "nbconvert_exporter": "python",
   "pygments_lexer": "ipython3",
   "version": "3.11.2"
  }
 },
 "nbformat": 4,
 "nbformat_minor": 2
}
